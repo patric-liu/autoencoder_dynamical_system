{
 "cells": [
  {
   "cell_type": "code",
   "execution_count": 1,
   "metadata": {},
   "outputs": [
    {
     "name": "stderr",
     "output_type": "stream",
     "text": [
      "Using TensorFlow backend.\n"
     ]
    }
   ],
   "source": [
    "import mnist_loader\n",
    "import pickle\n",
    "import numpy as np \n",
    "import autoencoder"
   ]
  },
  {
   "cell_type": "code",
   "execution_count": 2,
   "metadata": {},
   "outputs": [
    {
     "name": "stdout",
     "output_type": "stream",
     "text": [
      "processed data\n"
     ]
    }
   ],
   "source": [
    "# load training data\n",
    "training_data, validation_data, test_data = mnist_loader.load_data_wrapper()\n",
    "# only get x inputs\n",
    "training_data, test_data = np.array(list(training_data))[:,0], np.array(list(test_data))[:,0]\n",
    "training_data, test_data = np.array(list(map(lambda x: np.squeeze(x), training_data))), np.array(list(map(lambda x: np.squeeze(x), test_data)))\n",
    "print(\"processed data\")"
   ]
  },
  {
   "cell_type": "code",
   "execution_count": 3,
   "metadata": {},
   "outputs": [
    {
     "name": "stdout",
     "output_type": "stream",
     "text": [
      "finished building autoencoder\n"
     ]
    }
   ],
   "source": [
    "# [ 784, 400, L50, 400, 784] Initialize the Autoencoder\n",
    "autoencoder = autoencoder.Autoencoder([784, 400], [400, 784], 50)\n",
    "print(\"finished building autoencoder\")"
   ]
  },
  {
   "cell_type": "code",
   "execution_count": 20,
   "metadata": {
    "scrolled": true
   },
   "outputs": [
    {
     "name": "stdout",
     "output_type": "stream",
     "text": [
      "finished compiling autoencoder\n",
      "Train on 50000 samples, validate on 10000 samples\n",
      "Epoch 1/20\n",
      " - 7s - loss: 0.1397 - val_loss: 0.1344\n",
      "Epoch 2/20\n",
      " - 6s - loss: 0.1383 - val_loss: 0.1332\n",
      "Epoch 3/20\n",
      " - 6s - loss: 0.1378 - val_loss: 0.1364\n",
      "Epoch 4/20\n",
      " - 6s - loss: 0.1377 - val_loss: 0.1334\n",
      "Epoch 5/20\n",
      " - 6s - loss: 0.1385 - val_loss: 0.1336\n",
      "Epoch 6/20\n",
      " - 6s - loss: 0.1376 - val_loss: 0.1332\n",
      "Epoch 7/20\n",
      " - 6s - loss: 0.1363 - val_loss: 0.1303\n",
      "Epoch 8/20\n",
      " - 6s - loss: 0.1362 - val_loss: 0.1317\n",
      "Epoch 9/20\n",
      " - 6s - loss: 0.1353 - val_loss: 0.1284\n",
      "Epoch 10/20\n",
      " - 6s - loss: 0.1347 - val_loss: 0.1292\n",
      "Epoch 11/20\n",
      " - 6s - loss: 0.1361 - val_loss: 0.1323\n",
      "Epoch 12/20\n",
      " - 6s - loss: 0.1343 - val_loss: 0.1479\n",
      "Epoch 13/20\n",
      " - 6s - loss: 0.1329 - val_loss: 0.1256\n",
      "Epoch 14/20\n",
      " - 6s - loss: 0.1308 - val_loss: 0.1279\n",
      "Epoch 15/20\n",
      " - 6s - loss: 0.1312 - val_loss: 0.1295\n",
      "Epoch 16/20\n",
      " - 6s - loss: 0.1295 - val_loss: 0.1237\n",
      "Epoch 17/20\n",
      " - 6s - loss: 0.1293 - val_loss: 0.1260\n",
      "Epoch 18/20\n",
      " - 6s - loss: 0.1288 - val_loss: 0.1239\n",
      "Epoch 19/20\n",
      " - 6s - loss: 0.1299 - val_loss: 0.1285\n",
      "Epoch 20/20\n",
      " - 7s - loss: 0.1289 - val_loss: 0.1891\n",
      "finished training!\n"
     ]
    }
   ],
   "source": [
    "# train the autoencoder\n",
    "autoencoder.train(training_data, test_data, epochs = 20)\n",
    "print(\"finished training!\")"
   ]
  },
  {
   "cell_type": "code",
   "execution_count": 5,
   "metadata": {},
   "outputs": [],
   "source": [
    "import matplotlib.pyplot as plt\n",
    "import scipy.ndimage"
   ]
  },
  {
   "cell_type": "code",
   "execution_count": 19,
   "metadata": {
    "scrolled": false
   },
   "outputs": [
    {
     "name": "stderr",
     "output_type": "stream",
     "text": [
      "/home/patricliu/anaconda3/envs/venv/lib/python3.5/site-packages/ipykernel/__main__.py:1: DeprecationWarning: `imread` is deprecated!\n",
      "`imread` is deprecated in SciPy 1.0.0.\n",
      "Use ``matplotlib.pyplot.imread`` instead.\n",
      "  if __name__ == '__main__':\n"
     ]
    },
    {
     "data": {
      "image/png": "[encoded data removed]",
      "text/plain": [
       "<Figure size 432x288 with 1 Axes>"
      ]
     },
     "metadata": {
      "needs_background": "light"
     },
     "output_type": "display_data"
    },
    {
     "data": {
      "image/png": "[encoded data removed]",
      "text/plain": [
       "<Figure size 432x288 with 1 Axes>"
      ]
     },
     "metadata": {
      "needs_background": "light"
     },
     "output_type": "display_data"
    }
   ],
   "source": [
    "user_array = scipy.ndimage.imread('sample.jpg', flatten=True, mode=None)\n",
    "user_array = (-user_array/255) + 1\n",
    "shape = np.shape(user_array)\n",
    "\n",
    "imgplot = plt.imshow(user_array, cmap = 'Greys')\n",
    "plt.show()\n",
    "\n",
    "user_vector = np.zeros( (784,1) )\n",
    "for i in range(shape[1]):\n",
    "    for j in range(shape[0]):\n",
    "        value = user_array[i, j]\n",
    "        index = i * shape[1] +j\n",
    "        user_vector[index] = value\n",
    "        \n",
    "input_vector = np.array(np.squeeze(user_vector))\n",
    "output_vector = autoencoder.predict(np.array([input_vector, input_vector]))\n",
    "\n",
    "output_vector = output_vector[0]\n",
    "output_array = np.zeros((28,28))\n",
    "for i in range(28):\n",
    "    for j in range(28):\n",
    "        index = i * shape[1] + j\n",
    "        value = output_vector[index]\n",
    "        output_array[i, j] = value\n",
    "        \n",
    "imgplot = plt.imshow(output_array, cmap = 'Greys')\n",
    "plt.show()"
   ]
  },
  {
   "cell_type": "code",
   "execution_count": 24,
   "metadata": {},
   "outputs": [],
   "source": [
    "import os\n",
    "from keras.models import model_from_json\n",
    "save_path = os.getcwd() + '/model_weights/model_v1.h5'\n",
    "\n",
    "autoencoder.autoencoder.save_weights(save_path)\n",
    "with open(os.getcwd() + '/model_weights/model_architecture3.json', 'w') as f:\n",
    "    f.write(autoencoder.autoencoder.to_json())"
   ]
  },
  {
   "cell_type": "code",
   "execution_count": 10,
   "metadata": {},
   "outputs": [
    {
     "name": "stdout",
     "output_type": "stream",
     "text": [
      "(784,)\n"
     ]
    }
   ],
   "source": [
    "print(np.shape(np.squeeze(user_vector)))"
   ]
  }
 ],
 "metadata": {
  "kernelspec": {
   "display_name": "Python [conda env:venv]",
   "language": "python",
   "name": "conda-env-venv-py"
  },
  "language_info": {
   "codemirror_mode": {
    "name": "ipython",
    "version": 3
   },
   "file_extension": ".py",
   "mimetype": "text/x-python",
   "name": "python",
   "nbconvert_exporter": "python",
   "pygments_lexer": "ipython3",
   "version": "3.5.6"
  }
 },
 "nbformat": 4,
 "nbformat_minor": 2
}
