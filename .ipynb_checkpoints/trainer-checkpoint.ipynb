{
 "cells": [
  {
   "cell_type": "code",
   "execution_count": 17,
   "metadata": {},
   "outputs": [],
   "source": [
    "import mnist_loader\n",
    "import pickle\n",
    "import numpy as np \n",
    "import autoencoder\n",
    "import matplotlib.pyplot as plt\n",
    "import scipy.ndimage\n",
    "import misc"
   ]
  },
  {
   "cell_type": "code",
   "execution_count": 22,
   "metadata": {},
   "outputs": [
    {
     "name": "stdout",
     "output_type": "stream",
     "text": [
      "processed data\n"
     ]
    }
   ],
   "source": [
    "# load training data\n",
    "training_data, validation_data, test_data = mnist_loader.load_data_wrapper()\n",
    "# only get x inputs\n",
    "training_data, test_data = np.array(list(training_data))[:,0], np.array(list(test_data))[:,0]\n",
    "training_data, test_data = np.array(list(map(lambda x: np.squeeze(x), training_data))), np.array(list(map(lambda x: np.squeeze(x), test_data)))\n",
    "print(\"processed data\")"
   ]
  },
  {
   "cell_type": "code",
   "execution_count": 23,
   "metadata": {},
   "outputs": [
    {
     "name": "stdout",
     "output_type": "stream",
     "text": [
      "finished building autoencoder\n"
     ]
    }
   ],
   "source": [
    "# [ 784, 400, L50, 400, 784] Initialize the Autoencoder\n",
    "autoencoder = autoencoder.Autoencoder([784, 128, 64], [64, 128, 784], 32)\n",
    "print(\"finished building autoencoder\")"
   ]
  },
  {
   "cell_type": "code",
   "execution_count": 24,
   "metadata": {
    "scrolled": true
   },
   "outputs": [
    {
     "name": "stdout",
     "output_type": "stream",
     "text": [
      "finished compiling autoencoder\n",
      "Train on 50000 samples, validate on 10000 samples\n",
      "Epoch 1/1\n",
      " - 4s - loss: 0.3011 - val_loss: 0.2395\n",
      "finished training!\n"
     ]
    }
   ],
   "source": [
    "# train the autoencoder\n",
    "autoencoder.train(training_data, test_data, epochs = 1)\n",
    "print(\"finished training!\")"
   ]
  },
  {
   "cell_type": "code",
   "execution_count": 12,
   "metadata": {},
   "outputs": [],
   "source": []
  },
  {
   "cell_type": "code",
   "execution_count": 25,
   "metadata": {
    "scrolled": false
   },
   "outputs": [
    {
     "name": "stderr",
     "output_type": "stream",
     "text": [
      "/Users/patricliu/miniconda3/envs/ml_env/lib/python3.5/site-packages/ipykernel_launcher.py:3: DeprecationWarning: `imread` is deprecated!\n",
      "`imread` is deprecated in SciPy 1.0.0.\n",
      "Use ``matplotlib.pyplot.imread`` instead.\n",
      "  This is separate from the ipykernel package so we can avoid doing imports until\n"
     ]
    },
    {
     "data": {
      "image/png": "[encoded data removed]",
      "text/plain": [
       "<Figure size 432x288 with 1 Axes>"
      ]
     },
     "metadata": {
      "needs_background": "light"
     },
     "output_type": "display_data"
    },
    {
     "data": {
      "image/png": "[encoded data removed]",
      "text/plain": [
       "<Figure size 432x288 with 1 Axes>"
      ]
     },
     "metadata": {
      "needs_background": "light"
     },
     "output_type": "display_data"
    },
    {
     "name": "stderr",
     "output_type": "stream",
     "text": [
      "/Users/patricliu/miniconda3/envs/ml_env/lib/python3.5/site-packages/ipykernel_launcher.py:34: DeprecationWarning: `imread` is deprecated!\n",
      "`imread` is deprecated in SciPy 1.0.0.\n",
      "Use ``matplotlib.pyplot.imread`` instead.\n"
     ]
    },
    {
     "data": {
      "image/png": "[encoded data removed]",
      "text/plain": [
       "<Figure size 432x288 with 1 Axes>"
      ]
     },
     "metadata": {
      "needs_background": "light"
     },
     "output_type": "display_data"
    },
    {
     "data": {
      "image/png": "[encoded data removed]",
      "text/plain": [
       "<Figure size 432x288 with 1 Axes>"
      ]
     },
     "metadata": {
      "needs_background": "light"
     },
     "output_type": "display_data"
    }
   ],
   "source": [
    "# TEST ON CUSTOM IMAGE\n",
    "\n",
    "# load and show custom image\n",
    "user_array = scipy.ndimage.imread('sample.png', flatten=True, mode=None)\n",
    "user_array = (-user_array/255) + 1\n",
    "shape = np.shape(user_array)\n",
    "imgplot = plt.imshow(user_array, cmap = 'Greys')\n",
    "plt.show()\n",
    "# compute and show reconstruction\n",
    "input_vector = misc.array_2_vec(user_array)\n",
    "output_vector = autoencoder.predict(np.array([input_vector, input_vector]))[0]\n",
    "output_array = misc.vec_2_array(output_vector, (28,28) )\n",
    "imgplot = plt.imshow(output_array, cmap = 'Greys')\n",
    "plt.show()"
   ]
  },
  {
   "cell_type": "code",
   "execution_count": 14,
   "metadata": {},
   "outputs": [],
   "source": [
    "# SAVE MODEL\n",
    "\n",
    "import os\n",
    "from keras.models import model_from_json\n",
    "save_path = os.getcwd() + '/model_weights/model_v3.h5'\n",
    "\n",
    "autoencoder.autoencoder.save_weights(save_path)\n",
    "with open(os.getcwd() + '/model_weights/model_architecture3.json', 'w') as f:\n",
    "    f.write(autoencoder.autoencoder.to_json())"
   ]
  }
 ],
 "metadata": {
  "kernelspec": {
   "display_name": "Python 3",
   "language": "python",
   "name": "python3"
  },
  "language_info": {
   "codemirror_mode": {
    "name": "ipython",
    "version": 3
   },
   "file_extension": ".py",
   "mimetype": "text/x-python",
   "name": "python",
   "nbconvert_exporter": "python",
   "pygments_lexer": "ipython3",
   "version": "3.5.2"
  }
 },
 "nbformat": 4,
 "nbformat_minor": 2
}
