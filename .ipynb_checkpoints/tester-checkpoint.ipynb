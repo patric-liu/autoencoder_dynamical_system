{
 "cells": [
  {
   "cell_type": "code",
   "execution_count": 1,
   "metadata": {},
   "outputs": [
    {
     "name": "stderr",
     "output_type": "stream",
     "text": [
      "Using TensorFlow backend.\n"
     ]
    }
   ],
   "source": [
    "import numpy as np\n",
    "import matplotlib.pyplot as plt\n",
    "import keras\n",
    "import os\n",
    "from keras.models import model_from_json, Model\n",
    "import misc\n",
    "import scipy.ndimage"
   ]
  },
  {
   "cell_type": "code",
   "execution_count": 2,
   "metadata": {},
   "outputs": [],
   "source": [
    "# RELOAD MODEL\n",
    "\n",
    "# model reconstruction from JSON\n",
    "with open(os.getcwd() + '/model_weights/model_architecture3.json', 'r') as f:\n",
    "    autoencoder = model_from_json(f.read())\n",
    "# load weights into the model\n",
    "autoencoder.load_weights(os.getcwd() + '/model_weights/model_v3.h5')\n",
    "\n",
    "autoencoder.summary()"
   ]
  },
  {
   "cell_type": "code",
   "execution_count": 3,
   "metadata": {
    "collapsed": true
   },
   "outputs": [
    {
     "name": "stdout",
     "output_type": "stream",
     "text": [
      "_________________________________________________________________\n",
      "Layer (type)                 Output Shape              Param #   \n",
      "=================================================================\n",
      "input_1 (InputLayer)         (None, 784)               0         \n",
      "_________________________________________________________________\n",
      "dense_1 (Dense)              (None, 128)               100480    \n",
      "_________________________________________________________________\n",
      "dense_2 (Dense)              (None, 64)                8256      \n",
      "_________________________________________________________________\n",
      "dense_3 (Dense)              (None, 32)                2080      \n",
      "_________________________________________________________________\n",
      "dense_4 (Dense)              (None, 64)                2112      \n",
      "_________________________________________________________________\n",
      "dense_5 (Dense)              (None, 128)               8320      \n",
      "_________________________________________________________________\n",
      "dense_6 (Dense)              (None, 784)               101136    \n",
      "=================================================================\n",
      "Total params: 222,384\n",
      "Trainable params: 222,384\n",
      "Non-trainable params: 0\n",
      "_________________________________________________________________\n"
     ]
    }
   ],
   "source": []
  },
  {
   "cell_type": "code",
   "execution_count": 4,
   "metadata": {
    "collapsed": true
   },
   "outputs": [
    {
     "name": "stderr",
     "output_type": "stream",
     "text": [
      "/Users/patricliu/miniconda3/envs/ml_env/lib/python3.5/site-packages/ipykernel_launcher.py:2: DeprecationWarning: `imread` is deprecated!\n",
      "`imread` is deprecated in SciPy 1.0.0.\n",
      "Use ``matplotlib.pyplot.imread`` instead.\n",
      "  \n"
     ]
    },
    {
     "data": {
      "image/png": "[encoded data removed]",
      "text/plain": [
       "<Figure size 432x288 with 1 Axes>"
      ]
     },
     "metadata": {
      "needs_background": "light"
     },
     "output_type": "display_data"
    },
    {
     "data": {
      "image/png": "[encoded data removed]",
      "text/plain": [
       "<Figure size 432x288 with 1 Axes>"
      ]
     },
     "metadata": {
      "needs_background": "light"
     },
     "output_type": "display_data"
    }
   ],
   "source": [
    "# TEST ON CUSTOM IMAGE\n",
    "\n",
    "# load and show custom image\n",
    "user_array = scipy.ndimage.imread('sample.png', flatten=True, mode=None)\n",
    "user_array = (-user_array/255) + 1\n",
    "shape = np.shape(user_array)\n",
    "imgplot = plt.imshow(user_array, cmap = 'Greys')\n",
    "plt.show()\n",
    "# compute and show reconstruction\n",
    "input_vector = misc.array_2_vec(user_array)\n",
    "output_vector = autoencoder.predict(np.array([input_vector, input_vector]))[0]\n",
    "output_array = misc.vec_2_array(output_vector, (28,28) )\n",
    "imgplot = plt.imshow(output_array, cmap = 'Greys')\n",
    "plt.show()"
   ]
  },
  {
   "cell_type": "code",
   "execution_count": 8,
   "metadata": {},
   "outputs": [
    {
     "data": {
      "image/png": "[encoded data removed]",
      "text/plain": [
       "<Figure size 1440x288 with 20 Axes>"
      ]
     },
     "metadata": {
      "needs_background": "light"
     },
     "output_type": "display_data"
    }
   ],
   "source": [
    "# TEST ON MNIST DATA\n",
    "\n",
    "import mnist_loader\n",
    "# load training data\n",
    "training_data, validation_data, test_data_ = mnist_loader.load_data_wrapper()\n",
    "num_digits = 10\n",
    "test_data = np.array(list(map(lambda x: np.squeeze(x), np.array(list(test_data_))[:,0])))\n",
    "np.random.shuffle(test_data)\n",
    "test_data = test_data[0:num_digits]\n",
    "predicted_imgs = autoencoder.predict(test_data)\n",
    "# copypasta code to display digits\n",
    "plt.figure(figsize=(2*num_digits, 4))\n",
    "for i in range(num_digits):\n",
    "    # display original\n",
    "    ax = plt.subplot(2, num_digits, i + 1)\n",
    "    plt.imshow(test_data[i].reshape(28, 28))\n",
    "    plt.gray()\n",
    "    ax.get_xaxis().set_visible(False)\n",
    "    ax.get_yaxis().set_visible(False)\n",
    "\n",
    "    # display reconstruction\n",
    "    ax = plt.subplot(2, num_digits, i + 1 + num_digits)\n",
    "    plt.imshow(predicted_imgs[i].reshape(28, 28))\n",
    "    plt.gray()\n",
    "    ax.get_xaxis().set_visible(False)\n",
    "    ax.get_yaxis().set_visible(False)\n",
    "plt.show()"
   ]
  }
 ],
 "metadata": {
  "kernelspec": {
   "display_name": "Python 3",
   "language": "python",
   "name": "python3"
  },
  "language_info": {
   "codemirror_mode": {
    "name": "ipython",
    "version": 3
   },
   "file_extension": ".py",
   "mimetype": "text/x-python",
   "name": "python",
   "nbconvert_exporter": "python",
   "pygments_lexer": "ipython3",
   "version": "3.5.2"
  }
 },
 "nbformat": 4,
 "nbformat_minor": 2
}
